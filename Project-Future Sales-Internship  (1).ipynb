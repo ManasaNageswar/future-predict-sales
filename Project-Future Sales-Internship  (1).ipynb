{
 "cells": [
  {
   "cell_type": "code",
   "execution_count": 1,
   "id": "869945fa",
   "metadata": {},
   "outputs": [],
   "source": [
    "# importing the libraries(step 1)\n",
    "#data analysis,Maths or arrays,Kpi(graphs),kpi(graphs),,,\n",
    "import pandas as pd\n",
    "import numpy as np\n",
    "import matplotlib.pyplot as plt\n",
    "import seaborn as sns\n",
    "#ignore harmless warnings\n",
    "\n",
    "import warnings\n",
    "warnings.filterwarnings(\"ignore\")\n",
    "\n",
    "pd.set_option(\"display.max_columns\", None)\n",
    "# import psql to run queires\n",
    "import pandasql as psql"
   ]
  },
  {
   "cell_type": "markdown",
   "id": "1c899f67",
   "metadata": {},
   "source": [
    "# EDA"
   ]
  },
  {
   "cell_type": "code",
   "execution_count": 2,
   "id": "2a0a7b09",
   "metadata": {},
   "outputs": [
    {
     "data": {
      "text/html": [
       "<div>\n",
       "<style scoped>\n",
       "    .dataframe tbody tr th:only-of-type {\n",
       "        vertical-align: middle;\n",
       "    }\n",
       "\n",
       "    .dataframe tbody tr th {\n",
       "        vertical-align: top;\n",
       "    }\n",
       "\n",
       "    .dataframe thead th {\n",
       "        text-align: right;\n",
       "    }\n",
       "</style>\n",
       "<table border=\"1\" class=\"dataframe\">\n",
       "  <thead>\n",
       "    <tr style=\"text-align: right;\">\n",
       "      <th></th>\n",
       "      <th>date</th>\n",
       "      <th>date_block_num</th>\n",
       "      <th>shop_id</th>\n",
       "      <th>item_id</th>\n",
       "      <th>item_price</th>\n",
       "      <th>item_cnt_day</th>\n",
       "    </tr>\n",
       "  </thead>\n",
       "  <tbody>\n",
       "    <tr>\n",
       "      <th>0</th>\n",
       "      <td>02.01.2013</td>\n",
       "      <td>0</td>\n",
       "      <td>59</td>\n",
       "      <td>22154</td>\n",
       "      <td>999.00</td>\n",
       "      <td>1.0</td>\n",
       "    </tr>\n",
       "    <tr>\n",
       "      <th>1</th>\n",
       "      <td>03.01.2013</td>\n",
       "      <td>0</td>\n",
       "      <td>25</td>\n",
       "      <td>2552</td>\n",
       "      <td>899.00</td>\n",
       "      <td>1.0</td>\n",
       "    </tr>\n",
       "    <tr>\n",
       "      <th>2</th>\n",
       "      <td>05.01.2013</td>\n",
       "      <td>0</td>\n",
       "      <td>25</td>\n",
       "      <td>2552</td>\n",
       "      <td>899.00</td>\n",
       "      <td>-1.0</td>\n",
       "    </tr>\n",
       "    <tr>\n",
       "      <th>3</th>\n",
       "      <td>06.01.2013</td>\n",
       "      <td>0</td>\n",
       "      <td>25</td>\n",
       "      <td>2554</td>\n",
       "      <td>1709.05</td>\n",
       "      <td>1.0</td>\n",
       "    </tr>\n",
       "    <tr>\n",
       "      <th>4</th>\n",
       "      <td>15.01.2013</td>\n",
       "      <td>0</td>\n",
       "      <td>25</td>\n",
       "      <td>2555</td>\n",
       "      <td>1099.00</td>\n",
       "      <td>1.0</td>\n",
       "    </tr>\n",
       "  </tbody>\n",
       "</table>\n",
       "</div>"
      ],
      "text/plain": [
       "         date  date_block_num  shop_id  item_id  item_price  item_cnt_day\n",
       "0  02.01.2013               0       59    22154      999.00           1.0\n",
       "1  03.01.2013               0       25     2552      899.00           1.0\n",
       "2  05.01.2013               0       25     2552      899.00          -1.0\n",
       "3  06.01.2013               0       25     2554     1709.05           1.0\n",
       "4  15.01.2013               0       25     2555     1099.00           1.0"
      ]
     },
     "execution_count": 2,
     "metadata": {},
     "output_type": "execute_result"
    }
   ],
   "source": [
    "#loading the universalbank dataset(step 2)\n",
    "train_ds = pd.read_csv(r\"C:\\Users\\Dlc\\Downloads\\sales_train.csv\", header = 0)\n",
    "test_ds = pd.read_csv(r\"C:\\Users\\Dlc\\Downloads\\test.csv\",header=0)\n",
    "train_ds.head()"
   ]
  },
  {
   "cell_type": "code",
   "execution_count": 3,
   "id": "be95d188",
   "metadata": {},
   "outputs": [
    {
     "name": "stdout",
     "output_type": "stream",
     "text": [
      "<class 'pandas.core.frame.DataFrame'>\n",
      "RangeIndex: 2935849 entries, 0 to 2935848\n",
      "Data columns (total 6 columns):\n",
      " #   Column          Dtype  \n",
      "---  ------          -----  \n",
      " 0   date            object \n",
      " 1   date_block_num  int64  \n",
      " 2   shop_id         int64  \n",
      " 3   item_id         int64  \n",
      " 4   item_price      float64\n",
      " 5   item_cnt_day    float64\n",
      "dtypes: float64(2), int64(3), object(1)\n",
      "memory usage: 134.4+ MB\n"
     ]
    }
   ],
   "source": [
    "train_ds.info()"
   ]
  },
  {
   "cell_type": "code",
   "execution_count": 4,
   "id": "cf03881f",
   "metadata": {},
   "outputs": [
    {
     "data": {
      "text/html": [
       "<div>\n",
       "<style scoped>\n",
       "    .dataframe tbody tr th:only-of-type {\n",
       "        vertical-align: middle;\n",
       "    }\n",
       "\n",
       "    .dataframe tbody tr th {\n",
       "        vertical-align: top;\n",
       "    }\n",
       "\n",
       "    .dataframe thead th {\n",
       "        text-align: right;\n",
       "    }\n",
       "</style>\n",
       "<table border=\"1\" class=\"dataframe\">\n",
       "  <thead>\n",
       "    <tr style=\"text-align: right;\">\n",
       "      <th></th>\n",
       "      <th>date</th>\n",
       "      <th>date_block_num</th>\n",
       "      <th>shop_id</th>\n",
       "      <th>item_id</th>\n",
       "      <th>item_price</th>\n",
       "      <th>item_cnt_day</th>\n",
       "    </tr>\n",
       "  </thead>\n",
       "  <tbody>\n",
       "    <tr>\n",
       "      <th>0</th>\n",
       "      <td>02.01.2013</td>\n",
       "      <td>0</td>\n",
       "      <td>59</td>\n",
       "      <td>22154</td>\n",
       "      <td>999.00</td>\n",
       "      <td>1</td>\n",
       "    </tr>\n",
       "    <tr>\n",
       "      <th>1</th>\n",
       "      <td>03.01.2013</td>\n",
       "      <td>0</td>\n",
       "      <td>25</td>\n",
       "      <td>2552</td>\n",
       "      <td>899.00</td>\n",
       "      <td>1</td>\n",
       "    </tr>\n",
       "    <tr>\n",
       "      <th>2</th>\n",
       "      <td>05.01.2013</td>\n",
       "      <td>0</td>\n",
       "      <td>25</td>\n",
       "      <td>2552</td>\n",
       "      <td>899.00</td>\n",
       "      <td>-1</td>\n",
       "    </tr>\n",
       "    <tr>\n",
       "      <th>3</th>\n",
       "      <td>06.01.2013</td>\n",
       "      <td>0</td>\n",
       "      <td>25</td>\n",
       "      <td>2554</td>\n",
       "      <td>1709.05</td>\n",
       "      <td>1</td>\n",
       "    </tr>\n",
       "    <tr>\n",
       "      <th>4</th>\n",
       "      <td>15.01.2013</td>\n",
       "      <td>0</td>\n",
       "      <td>25</td>\n",
       "      <td>2555</td>\n",
       "      <td>1099.00</td>\n",
       "      <td>1</td>\n",
       "    </tr>\n",
       "  </tbody>\n",
       "</table>\n",
       "</div>"
      ],
      "text/plain": [
       "         date  date_block_num  shop_id  item_id  item_price  item_cnt_day\n",
       "0  02.01.2013               0       59    22154      999.00             1\n",
       "1  03.01.2013               0       25     2552      899.00             1\n",
       "2  05.01.2013               0       25     2552      899.00            -1\n",
       "3  06.01.2013               0       25     2554     1709.05             1\n",
       "4  15.01.2013               0       25     2555     1099.00             1"
      ]
     },
     "execution_count": 4,
     "metadata": {},
     "output_type": "execute_result"
    }
   ],
   "source": [
    "train_ds['item_cnt_day']=train_ds['item_cnt_day'].astype(int)\n",
    "train_ds.head()"
   ]
  },
  {
   "cell_type": "markdown",
   "id": "cd8fe18c",
   "metadata": {},
   "source": [
    "# Checking duplicates and null values"
   ]
  },
  {
   "cell_type": "code",
   "execution_count": 5,
   "id": "77882755",
   "metadata": {},
   "outputs": [
    {
     "data": {
      "text/plain": [
       "date              0\n",
       "date_block_num    0\n",
       "shop_id           0\n",
       "item_id           0\n",
       "item_price        0\n",
       "item_cnt_day      0\n",
       "dtype: int64"
      ]
     },
     "execution_count": 5,
     "metadata": {},
     "output_type": "execute_result"
    }
   ],
   "source": [
    "# identify the duplicates\n",
    "train_dub = train_ds[train_ds.duplicated(keep='last')]\n",
    "train_dub\n",
    "\n",
    "#identify the missing values in the variables\n",
    "train_ds.isnull().sum()"
   ]
  },
  {
   "cell_type": "markdown",
   "id": "dc19bd6a",
   "metadata": {},
   "source": [
    "# train_ds dataset general info"
   ]
  },
  {
   "cell_type": "code",
   "execution_count": 6,
   "id": "d625eb1e",
   "metadata": {},
   "outputs": [
    {
     "name": "stdout",
     "output_type": "stream",
     "text": [
      "<class 'pandas.core.frame.DataFrame'>\n",
      "RangeIndex: 2935849 entries, 0 to 2935848\n",
      "Data columns (total 6 columns):\n",
      " #   Column          Dtype  \n",
      "---  ------          -----  \n",
      " 0   date            object \n",
      " 1   date_block_num  int64  \n",
      " 2   shop_id         int64  \n",
      " 3   item_id         int64  \n",
      " 4   item_price      float64\n",
      " 5   item_cnt_day    int32  \n",
      "dtypes: float64(1), int32(1), int64(3), object(1)\n",
      "memory usage: 123.2+ MB\n"
     ]
    }
   ],
   "source": [
    "train_ds.info()"
   ]
  },
  {
   "cell_type": "markdown",
   "id": "84e69322",
   "metadata": {},
   "source": [
    "# test_ds dataset general info"
   ]
  },
  {
   "cell_type": "code",
   "execution_count": 7,
   "id": "f0839eb6",
   "metadata": {},
   "outputs": [
    {
     "name": "stdout",
     "output_type": "stream",
     "text": [
      "<class 'pandas.core.frame.DataFrame'>\n",
      "RangeIndex: 214200 entries, 0 to 214199\n",
      "Data columns (total 3 columns):\n",
      " #   Column   Non-Null Count   Dtype\n",
      "---  ------   --------------   -----\n",
      " 0   ID       214200 non-null  int64\n",
      " 1   shop_id  214200 non-null  int64\n",
      " 2   item_id  214200 non-null  int64\n",
      "dtypes: int64(3)\n",
      "memory usage: 4.9 MB\n"
     ]
    }
   ],
   "source": [
    "test_ds.info()"
   ]
  },
  {
   "cell_type": "code",
   "execution_count": 8,
   "id": "c9fe3b97",
   "metadata": {},
   "outputs": [
    {
     "data": {
      "text/html": [
       "<div>\n",
       "<style scoped>\n",
       "    .dataframe tbody tr th:only-of-type {\n",
       "        vertical-align: middle;\n",
       "    }\n",
       "\n",
       "    .dataframe tbody tr th {\n",
       "        vertical-align: top;\n",
       "    }\n",
       "\n",
       "    .dataframe thead th {\n",
       "        text-align: right;\n",
       "    }\n",
       "</style>\n",
       "<table border=\"1\" class=\"dataframe\">\n",
       "  <thead>\n",
       "    <tr style=\"text-align: right;\">\n",
       "      <th></th>\n",
       "      <th>ID</th>\n",
       "      <th>shop_id</th>\n",
       "      <th>item_id</th>\n",
       "    </tr>\n",
       "  </thead>\n",
       "  <tbody>\n",
       "    <tr>\n",
       "      <th>0</th>\n",
       "      <td>0</td>\n",
       "      <td>5</td>\n",
       "      <td>5037</td>\n",
       "    </tr>\n",
       "    <tr>\n",
       "      <th>1</th>\n",
       "      <td>1</td>\n",
       "      <td>5</td>\n",
       "      <td>5320</td>\n",
       "    </tr>\n",
       "    <tr>\n",
       "      <th>2</th>\n",
       "      <td>2</td>\n",
       "      <td>5</td>\n",
       "      <td>5233</td>\n",
       "    </tr>\n",
       "    <tr>\n",
       "      <th>3</th>\n",
       "      <td>3</td>\n",
       "      <td>5</td>\n",
       "      <td>5232</td>\n",
       "    </tr>\n",
       "    <tr>\n",
       "      <th>4</th>\n",
       "      <td>4</td>\n",
       "      <td>5</td>\n",
       "      <td>5268</td>\n",
       "    </tr>\n",
       "  </tbody>\n",
       "</table>\n",
       "</div>"
      ],
      "text/plain": [
       "   ID  shop_id  item_id\n",
       "0   0        5     5037\n",
       "1   1        5     5320\n",
       "2   2        5     5233\n",
       "3   3        5     5232\n",
       "4   4        5     5268"
      ]
     },
     "execution_count": 8,
     "metadata": {},
     "output_type": "execute_result"
    }
   ],
   "source": [
    "test_ds.head()"
   ]
  },
  {
   "cell_type": "markdown",
   "id": "aa4454bf",
   "metadata": {},
   "source": [
    "# Data manupulations"
   ]
  },
  {
   "cell_type": "code",
   "execution_count": 9,
   "id": "9587ee18",
   "metadata": {},
   "outputs": [
    {
     "data": {
      "text/html": [
       "<div>\n",
       "<style scoped>\n",
       "    .dataframe tbody tr th:only-of-type {\n",
       "        vertical-align: middle;\n",
       "    }\n",
       "\n",
       "    .dataframe tbody tr th {\n",
       "        vertical-align: top;\n",
       "    }\n",
       "\n",
       "    .dataframe thead th {\n",
       "        text-align: right;\n",
       "    }\n",
       "</style>\n",
       "<table border=\"1\" class=\"dataframe\">\n",
       "  <thead>\n",
       "    <tr style=\"text-align: right;\">\n",
       "      <th></th>\n",
       "      <th>date</th>\n",
       "      <th>shop_id</th>\n",
       "      <th>item_id</th>\n",
       "      <th>item_cnt_day</th>\n",
       "    </tr>\n",
       "  </thead>\n",
       "  <tbody>\n",
       "    <tr>\n",
       "      <th>0</th>\n",
       "      <td>02.01.2013</td>\n",
       "      <td>59</td>\n",
       "      <td>22154</td>\n",
       "      <td>1</td>\n",
       "    </tr>\n",
       "    <tr>\n",
       "      <th>1</th>\n",
       "      <td>03.01.2013</td>\n",
       "      <td>25</td>\n",
       "      <td>2552</td>\n",
       "      <td>1</td>\n",
       "    </tr>\n",
       "    <tr>\n",
       "      <th>2</th>\n",
       "      <td>05.01.2013</td>\n",
       "      <td>25</td>\n",
       "      <td>2552</td>\n",
       "      <td>-1</td>\n",
       "    </tr>\n",
       "    <tr>\n",
       "      <th>3</th>\n",
       "      <td>06.01.2013</td>\n",
       "      <td>25</td>\n",
       "      <td>2554</td>\n",
       "      <td>1</td>\n",
       "    </tr>\n",
       "    <tr>\n",
       "      <th>4</th>\n",
       "      <td>15.01.2013</td>\n",
       "      <td>25</td>\n",
       "      <td>2555</td>\n",
       "      <td>1</td>\n",
       "    </tr>\n",
       "  </tbody>\n",
       "</table>\n",
       "</div>"
      ],
      "text/plain": [
       "         date  shop_id  item_id  item_cnt_day\n",
       "0  02.01.2013       59    22154             1\n",
       "1  03.01.2013       25     2552             1\n",
       "2  05.01.2013       25     2552            -1\n",
       "3  06.01.2013       25     2554             1\n",
       "4  15.01.2013       25     2555             1"
      ]
     },
     "execution_count": 9,
     "metadata": {},
     "output_type": "execute_result"
    }
   ],
   "source": [
    "train_ds = train_ds[[\"date\", \"shop_id\", \"item_id\", \"item_cnt_day\"]]\n",
    "train_ds.head()"
   ]
  },
  {
   "cell_type": "code",
   "execution_count": 10,
   "id": "532b5194",
   "metadata": {},
   "outputs": [
    {
     "data": {
      "text/html": [
       "<div>\n",
       "<style scoped>\n",
       "    .dataframe tbody tr th:only-of-type {\n",
       "        vertical-align: middle;\n",
       "    }\n",
       "\n",
       "    .dataframe tbody tr th {\n",
       "        vertical-align: top;\n",
       "    }\n",
       "\n",
       "    .dataframe thead th {\n",
       "        text-align: right;\n",
       "    }\n",
       "</style>\n",
       "<table border=\"1\" class=\"dataframe\">\n",
       "  <thead>\n",
       "    <tr style=\"text-align: right;\">\n",
       "      <th></th>\n",
       "      <th>shop_id</th>\n",
       "      <th>item_id</th>\n",
       "      <th>item_cnt_day</th>\n",
       "      <th>month</th>\n",
       "    </tr>\n",
       "  </thead>\n",
       "  <tbody>\n",
       "    <tr>\n",
       "      <th>0</th>\n",
       "      <td>59</td>\n",
       "      <td>22154</td>\n",
       "      <td>1</td>\n",
       "      <td>1</td>\n",
       "    </tr>\n",
       "    <tr>\n",
       "      <th>1</th>\n",
       "      <td>25</td>\n",
       "      <td>2552</td>\n",
       "      <td>1</td>\n",
       "      <td>1</td>\n",
       "    </tr>\n",
       "    <tr>\n",
       "      <th>2</th>\n",
       "      <td>25</td>\n",
       "      <td>2552</td>\n",
       "      <td>-1</td>\n",
       "      <td>1</td>\n",
       "    </tr>\n",
       "    <tr>\n",
       "      <th>3</th>\n",
       "      <td>25</td>\n",
       "      <td>2554</td>\n",
       "      <td>1</td>\n",
       "      <td>1</td>\n",
       "    </tr>\n",
       "    <tr>\n",
       "      <th>4</th>\n",
       "      <td>25</td>\n",
       "      <td>2555</td>\n",
       "      <td>1</td>\n",
       "      <td>1</td>\n",
       "    </tr>\n",
       "  </tbody>\n",
       "</table>\n",
       "</div>"
      ],
      "text/plain": [
       "   shop_id  item_id  item_cnt_day  month\n",
       "0       59    22154             1      1\n",
       "1       25     2552             1      1\n",
       "2       25     2552            -1      1\n",
       "3       25     2554             1      1\n",
       "4       25     2555             1      1"
      ]
     },
     "execution_count": 10,
     "metadata": {},
     "output_type": "execute_result"
    }
   ],
   "source": [
    "train_ds[\"month\"] = [ int(d.split(\".\")[1]) for d in train_ds[\"date\"] ]\n",
    "train_ds = train_ds.drop(\"date\", axis=1)\n",
    "train_ds.head()"
   ]
  },
  {
   "cell_type": "code",
   "execution_count": 11,
   "id": "645e4f53",
   "metadata": {},
   "outputs": [
    {
     "data": {
      "text/html": [
       "<div>\n",
       "<style scoped>\n",
       "    .dataframe tbody tr th:only-of-type {\n",
       "        vertical-align: middle;\n",
       "    }\n",
       "\n",
       "    .dataframe tbody tr th {\n",
       "        vertical-align: top;\n",
       "    }\n",
       "\n",
       "    .dataframe thead th {\n",
       "        text-align: right;\n",
       "    }\n",
       "</style>\n",
       "<table border=\"1\" class=\"dataframe\">\n",
       "  <thead>\n",
       "    <tr style=\"text-align: right;\">\n",
       "      <th></th>\n",
       "      <th></th>\n",
       "      <th></th>\n",
       "      <th>item_cnt_day</th>\n",
       "    </tr>\n",
       "    <tr>\n",
       "      <th>month</th>\n",
       "      <th>shop_id</th>\n",
       "      <th>item_id</th>\n",
       "      <th></th>\n",
       "    </tr>\n",
       "  </thead>\n",
       "  <tbody>\n",
       "    <tr>\n",
       "      <th rowspan=\"5\" valign=\"top\">1</th>\n",
       "      <th rowspan=\"5\" valign=\"top\">0</th>\n",
       "      <th>32</th>\n",
       "      <td>6</td>\n",
       "    </tr>\n",
       "    <tr>\n",
       "      <th>33</th>\n",
       "      <td>3</td>\n",
       "    </tr>\n",
       "    <tr>\n",
       "      <th>35</th>\n",
       "      <td>1</td>\n",
       "    </tr>\n",
       "    <tr>\n",
       "      <th>43</th>\n",
       "      <td>1</td>\n",
       "    </tr>\n",
       "    <tr>\n",
       "      <th>51</th>\n",
       "      <td>2</td>\n",
       "    </tr>\n",
       "  </tbody>\n",
       "</table>\n",
       "</div>"
      ],
      "text/plain": [
       "                       item_cnt_day\n",
       "month shop_id item_id              \n",
       "1     0       32                  6\n",
       "              33                  3\n",
       "              35                  1\n",
       "              43                  1\n",
       "              51                  2"
      ]
     },
     "execution_count": 11,
     "metadata": {},
     "output_type": "execute_result"
    }
   ],
   "source": [
    "train_ds = train_ds.groupby(by=[\"month\", \"shop_id\", \"item_id\"]).sum()\n",
    "train_ds.head()"
   ]
  },
  {
   "cell_type": "code",
   "execution_count": 12,
   "id": "4abbb69d",
   "metadata": {},
   "outputs": [
    {
     "name": "stdout",
     "output_type": "stream",
     "text": [
      "<class 'pandas.core.frame.DataFrame'>\n",
      "MultiIndex: 1396971 entries, (1, 0, 32) to (12, 59, 22167)\n",
      "Data columns (total 1 columns):\n",
      " #   Column        Non-Null Count    Dtype\n",
      "---  ------        --------------    -----\n",
      " 0   item_cnt_day  1396971 non-null  int32\n",
      "dtypes: int32(1)\n",
      "memory usage: 10.8 MB\n"
     ]
    }
   ],
   "source": [
    "train_ds.info()"
   ]
  },
  {
   "cell_type": "code",
   "execution_count": 13,
   "id": "64d75670",
   "metadata": {},
   "outputs": [],
   "source": [
    "shop_id = [i[1] for i in train_ds.index]\n",
    "item_id = [i[2] for i in train_ds.index]\n",
    "item_cnt_month = train_ds[\"item_cnt_day\"].to_list()"
   ]
  },
  {
   "cell_type": "code",
   "execution_count": 14,
   "id": "fb9c7c9f",
   "metadata": {},
   "outputs": [
    {
     "name": "stdout",
     "output_type": "stream",
     "text": [
      "<class 'pandas.core.frame.DataFrame'>\n",
      "RangeIndex: 1396971 entries, 0 to 1396970\n",
      "Data columns (total 3 columns):\n",
      " #   Column          Non-Null Count    Dtype\n",
      "---  ------          --------------    -----\n",
      " 0   shop_id         1396971 non-null  int64\n",
      " 1   item_id         1396971 non-null  int64\n",
      " 2   item_cnt_month  1396971 non-null  int64\n",
      "dtypes: int64(3)\n",
      "memory usage: 32.0 MB\n"
     ]
    },
    {
     "data": {
      "text/html": [
       "<div>\n",
       "<style scoped>\n",
       "    .dataframe tbody tr th:only-of-type {\n",
       "        vertical-align: middle;\n",
       "    }\n",
       "\n",
       "    .dataframe tbody tr th {\n",
       "        vertical-align: top;\n",
       "    }\n",
       "\n",
       "    .dataframe thead th {\n",
       "        text-align: right;\n",
       "    }\n",
       "</style>\n",
       "<table border=\"1\" class=\"dataframe\">\n",
       "  <thead>\n",
       "    <tr style=\"text-align: right;\">\n",
       "      <th></th>\n",
       "      <th>shop_id</th>\n",
       "      <th>item_id</th>\n",
       "      <th>item_cnt_month</th>\n",
       "    </tr>\n",
       "  </thead>\n",
       "  <tbody>\n",
       "    <tr>\n",
       "      <th>0</th>\n",
       "      <td>0</td>\n",
       "      <td>32</td>\n",
       "      <td>6</td>\n",
       "    </tr>\n",
       "    <tr>\n",
       "      <th>1</th>\n",
       "      <td>0</td>\n",
       "      <td>33</td>\n",
       "      <td>3</td>\n",
       "    </tr>\n",
       "    <tr>\n",
       "      <th>2</th>\n",
       "      <td>0</td>\n",
       "      <td>35</td>\n",
       "      <td>1</td>\n",
       "    </tr>\n",
       "    <tr>\n",
       "      <th>3</th>\n",
       "      <td>0</td>\n",
       "      <td>43</td>\n",
       "      <td>1</td>\n",
       "    </tr>\n",
       "    <tr>\n",
       "      <th>4</th>\n",
       "      <td>0</td>\n",
       "      <td>51</td>\n",
       "      <td>2</td>\n",
       "    </tr>\n",
       "    <tr>\n",
       "      <th>...</th>\n",
       "      <td>...</td>\n",
       "      <td>...</td>\n",
       "      <td>...</td>\n",
       "    </tr>\n",
       "    <tr>\n",
       "      <th>1396966</th>\n",
       "      <td>59</td>\n",
       "      <td>22087</td>\n",
       "      <td>27</td>\n",
       "    </tr>\n",
       "    <tr>\n",
       "      <th>1396967</th>\n",
       "      <td>59</td>\n",
       "      <td>22088</td>\n",
       "      <td>30</td>\n",
       "    </tr>\n",
       "    <tr>\n",
       "      <th>1396968</th>\n",
       "      <td>59</td>\n",
       "      <td>22091</td>\n",
       "      <td>11</td>\n",
       "    </tr>\n",
       "    <tr>\n",
       "      <th>1396969</th>\n",
       "      <td>59</td>\n",
       "      <td>22092</td>\n",
       "      <td>10</td>\n",
       "    </tr>\n",
       "    <tr>\n",
       "      <th>1396970</th>\n",
       "      <td>59</td>\n",
       "      <td>22167</td>\n",
       "      <td>2</td>\n",
       "    </tr>\n",
       "  </tbody>\n",
       "</table>\n",
       "<p>1396971 rows × 3 columns</p>\n",
       "</div>"
      ],
      "text/plain": [
       "         shop_id  item_id  item_cnt_month\n",
       "0              0       32               6\n",
       "1              0       33               3\n",
       "2              0       35               1\n",
       "3              0       43               1\n",
       "4              0       51               2\n",
       "...          ...      ...             ...\n",
       "1396966       59    22087              27\n",
       "1396967       59    22088              30\n",
       "1396968       59    22091              11\n",
       "1396969       59    22092              10\n",
       "1396970       59    22167               2\n",
       "\n",
       "[1396971 rows x 3 columns]"
      ]
     },
     "execution_count": 14,
     "metadata": {},
     "output_type": "execute_result"
    }
   ],
   "source": [
    "train_ds = pd.DataFrame()\n",
    "train_ds[\"shop_id\"] = shop_id\n",
    "train_ds[\"item_id\"] = item_id\n",
    "train_ds[\"item_cnt_month\"] = item_cnt_month\n",
    "\n",
    "train_ds.info()\n",
    "train_ds"
   ]
  },
  {
   "cell_type": "markdown",
   "id": "5386208e",
   "metadata": {},
   "source": [
    "# Outliers"
   ]
  },
  {
   "cell_type": "code",
   "execution_count": 15,
   "id": "bf530b0b",
   "metadata": {},
   "outputs": [
    {
     "data": {
      "text/plain": [
       "(1392416, 3)"
      ]
     },
     "execution_count": 15,
     "metadata": {},
     "output_type": "execute_result"
    }
   ],
   "source": [
    "item_cnt_month_UL = round(train_ds.item_cnt_month.mean() + 3 * train_ds.item_cnt_month.std(),3)\n",
    "item_cnt_month_LL = round(train_ds.item_cnt_month.mean() - 3 * train_ds.item_cnt_month.std(),3)\n",
    "train_ds= train_ds[(train_ds.item_cnt_month >item_cnt_month_LL) & (train_ds.item_cnt_month <item_cnt_month_UL)]\n",
    "train_ds.shape"
   ]
  },
  {
   "cell_type": "markdown",
   "id": "3ad84364",
   "metadata": {},
   "source": [
    "# Dependancies studying"
   ]
  },
  {
   "cell_type": "code",
   "execution_count": 16,
   "id": "81144e7c",
   "metadata": {},
   "outputs": [],
   "source": [
    "train_y = train_ds[\"item_cnt_month\"]\n",
    "train_X = train_ds.drop(\"item_cnt_month\", axis=1)"
   ]
  },
  {
   "cell_type": "code",
   "execution_count": 17,
   "id": "14c19f99",
   "metadata": {},
   "outputs": [
    {
     "data": {
      "text/plain": [
       "(array([44.,  1.,  1.,  0.,  0.,  0.,  0.,  0.,  0.,  1.]),\n",
       " array([1.000000e+00, 8.456640e+04, 1.691318e+05, 2.536972e+05,\n",
       "        3.382626e+05, 4.228280e+05, 5.073934e+05, 5.919588e+05,\n",
       "        6.765242e+05, 7.610896e+05, 8.456550e+05]),\n",
       " <BarContainer object of 10 artists>)"
      ]
     },
     "execution_count": 17,
     "metadata": {},
     "output_type": "execute_result"
    },
    {
     "data": {
      "image/png": "[encoded data removed]",
      "text/plain": [
       "<Figure size 640x480 with 1 Axes>"
      ]
     },
     "metadata": {},
     "output_type": "display_data"
    }
   ],
   "source": [
    "val_counts = train_y.value_counts()\n",
    "plt.hist(val_counts)"
   ]
  },
  {
   "cell_type": "markdown",
   "id": "7efc6a48",
   "metadata": {},
   "source": [
    "# Statistical characteristics"
   ]
  },
  {
   "cell_type": "code",
   "execution_count": 18,
   "id": "9a8581a9",
   "metadata": {},
   "outputs": [
    {
     "data": {
      "text/plain": [
       " 1     845655\n",
       " 2     247493\n",
       " 3     105052\n",
       " 4      55519\n",
       " 5      33778\n",
       " 6      22474\n",
       " 7      15778\n",
       " 8      11825\n",
       " 9       8765\n",
       " 10      6761\n",
       " 11      5378\n",
       " 12      4431\n",
       " 13      3676\n",
       " 14      3047\n",
       " 15      2618\n",
       " 16      2153\n",
       " 0       2137\n",
       " 17      1849\n",
       " 18      1648\n",
       " 19      1364\n",
       " 20      1270\n",
       " 21      1046\n",
       " 22       954\n",
       " 23       860\n",
       "-1        709\n",
       " 24       699\n",
       " 25       636\n",
       " 26       630\n",
       " 27       526\n",
       " 28       524\n",
       " 29       440\n",
       " 30       416\n",
       " 31       369\n",
       " 32       352\n",
       " 33       298\n",
       " 35       282\n",
       " 34       273\n",
       " 36       257\n",
       " 38       231\n",
       " 37       213\n",
       "-2         23\n",
       "-4          2\n",
       "-13         1\n",
       "-6          1\n",
       "-5          1\n",
       "-3          1\n",
       "-22         1\n",
       "Name: item_cnt_month, dtype: int64"
      ]
     },
     "execution_count": 18,
     "metadata": {},
     "output_type": "execute_result"
    }
   ],
   "source": [
    "val_counts"
   ]
  },
  {
   "cell_type": "code",
   "execution_count": 19,
   "id": "fcacf4f0",
   "metadata": {},
   "outputs": [
    {
     "data": {
      "image/png": "[encoded data removed]",
      "text/plain": [
       "<Figure size 640x480 with 1 Axes>"
      ]
     },
     "metadata": {},
     "output_type": "display_data"
    }
   ],
   "source": [
    "ds = train_X.sort_values(by=[\"shop_id\"])\n",
    "\n",
    "plt.plot(ds[\"shop_id\"], train_y)\n",
    "plt.grid()\n",
    "plt.show()"
   ]
  },
  {
   "cell_type": "code",
   "execution_count": 20,
   "id": "96dff72b",
   "metadata": {},
   "outputs": [
    {
     "data": {
      "image/png": "[encoded data removed]",
      "text/plain": [
       "<Figure size 640x480 with 1 Axes>"
      ]
     },
     "metadata": {},
     "output_type": "display_data"
    }
   ],
   "source": [
    "ds = train_X.sort_values(by=[\"item_id\"])\n",
    "\n",
    "plt.plot(ds[\"item_id\"], train_y)\n",
    "plt.grid()\n",
    "plt.show()\n"
   ]
  },
  {
   "cell_type": "code",
   "execution_count": 21,
   "id": "44de358c",
   "metadata": {},
   "outputs": [
    {
     "data": {
      "text/plain": [
       "<Axes: >"
      ]
     },
     "execution_count": 21,
     "metadata": {},
     "output_type": "execute_result"
    },
    {
     "data": {
      "image/png": "[encoded data removed]",
      "text/plain": [
       "<Figure size 640x480 with 2 Axes>"
      ]
     },
     "metadata": {},
     "output_type": "display_data"
    }
   ],
   "source": [
    "sns.heatmap(train_X.corr(method=\"spearman\"), vmin=-1, vmax=1)"
   ]
  },
  {
   "cell_type": "code",
   "execution_count": 22,
   "id": "851facbc",
   "metadata": {},
   "outputs": [
    {
     "data": {
      "text/html": [
       "<div>\n",
       "<style scoped>\n",
       "    .dataframe tbody tr th:only-of-type {\n",
       "        vertical-align: middle;\n",
       "    }\n",
       "\n",
       "    .dataframe tbody tr th {\n",
       "        vertical-align: top;\n",
       "    }\n",
       "\n",
       "    .dataframe thead th {\n",
       "        text-align: right;\n",
       "    }\n",
       "</style>\n",
       "<table border=\"1\" class=\"dataframe\">\n",
       "  <thead>\n",
       "    <tr style=\"text-align: right;\">\n",
       "      <th></th>\n",
       "      <th>shop_id</th>\n",
       "      <th>item_id</th>\n",
       "    </tr>\n",
       "  </thead>\n",
       "  <tbody>\n",
       "    <tr>\n",
       "      <th>shop_id</th>\n",
       "      <td>1.000000</td>\n",
       "      <td>0.024193</td>\n",
       "    </tr>\n",
       "    <tr>\n",
       "      <th>item_id</th>\n",
       "      <td>0.024193</td>\n",
       "      <td>1.000000</td>\n",
       "    </tr>\n",
       "  </tbody>\n",
       "</table>\n",
       "</div>"
      ],
      "text/plain": [
       "          shop_id   item_id\n",
       "shop_id  1.000000  0.024193\n",
       "item_id  0.024193  1.000000"
      ]
     },
     "execution_count": 22,
     "metadata": {},
     "output_type": "execute_result"
    }
   ],
   "source": [
    "train_X.corr(method=\"spearman\")"
   ]
  },
  {
   "cell_type": "code",
   "execution_count": 23,
   "id": "74b4bb06",
   "metadata": {},
   "outputs": [
    {
     "data": {
      "text/html": [
       "<div>\n",
       "<style scoped>\n",
       "    .dataframe tbody tr th:only-of-type {\n",
       "        vertical-align: middle;\n",
       "    }\n",
       "\n",
       "    .dataframe tbody tr th {\n",
       "        vertical-align: top;\n",
       "    }\n",
       "\n",
       "    .dataframe thead th {\n",
       "        text-align: right;\n",
       "    }\n",
       "</style>\n",
       "<table border=\"1\" class=\"dataframe\">\n",
       "  <thead>\n",
       "    <tr style=\"text-align: right;\">\n",
       "      <th></th>\n",
       "      <th>shop_id</th>\n",
       "      <th>item_id</th>\n",
       "      <th>item_cnt_month</th>\n",
       "    </tr>\n",
       "  </thead>\n",
       "  <tbody>\n",
       "    <tr>\n",
       "      <th>count</th>\n",
       "      <td>1.392416e+06</td>\n",
       "      <td>1.392416e+06</td>\n",
       "      <td>1.392416e+06</td>\n",
       "    </tr>\n",
       "    <tr>\n",
       "      <th>mean</th>\n",
       "      <td>3.269763e+01</td>\n",
       "      <td>1.085047e+04</td>\n",
       "      <td>2.272846e+00</td>\n",
       "    </tr>\n",
       "    <tr>\n",
       "      <th>std</th>\n",
       "      <td>1.660011e+01</td>\n",
       "      <td>6.229772e+03</td>\n",
       "      <td>3.121251e+00</td>\n",
       "    </tr>\n",
       "    <tr>\n",
       "      <th>min</th>\n",
       "      <td>0.000000e+00</td>\n",
       "      <td>0.000000e+00</td>\n",
       "      <td>-2.200000e+01</td>\n",
       "    </tr>\n",
       "    <tr>\n",
       "      <th>25%</th>\n",
       "      <td>2.100000e+01</td>\n",
       "      <td>5.272000e+03</td>\n",
       "      <td>1.000000e+00</td>\n",
       "    </tr>\n",
       "    <tr>\n",
       "      <th>50%</th>\n",
       "      <td>3.100000e+01</td>\n",
       "      <td>1.077700e+04</td>\n",
       "      <td>1.000000e+00</td>\n",
       "    </tr>\n",
       "    <tr>\n",
       "      <th>75%</th>\n",
       "      <td>4.700000e+01</td>\n",
       "      <td>1.614700e+04</td>\n",
       "      <td>2.000000e+00</td>\n",
       "    </tr>\n",
       "    <tr>\n",
       "      <th>max</th>\n",
       "      <td>5.900000e+01</td>\n",
       "      <td>2.216900e+04</td>\n",
       "      <td>3.800000e+01</td>\n",
       "    </tr>\n",
       "  </tbody>\n",
       "</table>\n",
       "</div>"
      ],
      "text/plain": [
       "            shop_id       item_id  item_cnt_month\n",
       "count  1.392416e+06  1.392416e+06    1.392416e+06\n",
       "mean   3.269763e+01  1.085047e+04    2.272846e+00\n",
       "std    1.660011e+01  6.229772e+03    3.121251e+00\n",
       "min    0.000000e+00  0.000000e+00   -2.200000e+01\n",
       "25%    2.100000e+01  5.272000e+03    1.000000e+00\n",
       "50%    3.100000e+01  1.077700e+04    1.000000e+00\n",
       "75%    4.700000e+01  1.614700e+04    2.000000e+00\n",
       "max    5.900000e+01  2.216900e+04    3.800000e+01"
      ]
     },
     "execution_count": 23,
     "metadata": {},
     "output_type": "execute_result"
    }
   ],
   "source": [
    "train_ds.describe()"
   ]
  },
  {
   "cell_type": "code",
   "execution_count": 24,
   "id": "1f717f58",
   "metadata": {},
   "outputs": [],
   "source": [
    "#identify the independent and target (dependent) variables\n",
    "\n",
    "IndepVar = []\n",
    "for col in train_ds.columns:\n",
    "    if col != 'item_cnt_month':\n",
    "        IndepVar.append(col)\n",
    "        \n",
    "TargetVar = 'item_cnt_month'\n",
    "\n",
    "x = train_ds[IndepVar]\n",
    "y = train_ds[TargetVar]"
   ]
  },
  {
   "cell_type": "markdown",
   "id": "9c72a57d",
   "metadata": {},
   "source": [
    "# Sampling"
   ]
  },
  {
   "cell_type": "code",
   "execution_count": 25,
   "id": "6de1ba31",
   "metadata": {},
   "outputs": [
    {
     "data": {
      "text/plain": [
       "((974691, 2), (417725, 2), (974691,), (417725,))"
      ]
     },
     "execution_count": 25,
     "metadata": {},
     "output_type": "execute_result"
    }
   ],
   "source": [
    "# Split the data into train and test (random sampling)\n",
    "\n",
    "from sklearn.model_selection import train_test_split \n",
    "\n",
    "x_train, x_test, y_train, y_test = train_test_split(x, y, test_size=0.3, random_state=42)\n",
    "\n",
    "# Display the shape for train & test data\n",
    "\n",
    "x_train.shape, x_test.shape, y_train.shape, y_test.shape"
   ]
  },
  {
   "cell_type": "markdown",
   "id": "b1edbae9",
   "metadata": {},
   "source": [
    "# Scaling"
   ]
  },
  {
   "cell_type": "code",
   "execution_count": 26,
   "id": "309d1920",
   "metadata": {},
   "outputs": [],
   "source": [
    "# Scaling the features by using MinMaxScaler\n",
    "\n",
    "from sklearn.preprocessing import MinMaxScaler\n",
    "\n",
    "mmscaler = MinMaxScaler(feature_range=(0, 1))\n",
    "\n",
    "x_train = mmscaler.fit_transform(x_train)\n",
    "#x_train[cols2] = mmscaler.fit_transform(x_train[cols2])\n",
    "x_train = pd.DataFrame(x_train)\n",
    "\n",
    "x_test = mmscaler.fit_transform(x_test)\n",
    "#_test[cols2] = mmscaler.fit_transform(x_test[cols2])\n",
    "x_test = pd.DataFrame(x_test)"
   ]
  },
  {
   "cell_type": "markdown",
   "id": "1057c92a",
   "metadata": {},
   "source": [
    "# Multi regression model"
   ]
  },
  {
   "cell_type": "code",
   "execution_count": 27,
   "id": "8ecd4fe3",
   "metadata": {},
   "outputs": [
    {
     "name": "stdout",
     "output_type": "stream",
     "text": [
      "mean Absolute Error(MAE): 1.642\n",
      "mean squared Error(ME): 1.64\n",
      "Root mean Absolute Error(RMAE): 1.281\n",
      "R2_score: 0.00981\n",
      "Mean Absolute Percentage Error(MAPE): 1535224061594826.8 %\n",
      "Root mean Squared Log Error(RMSLE): 1.137\n",
      "Adj R Square:  0.009809\n"
     ]
    }
   ],
   "source": [
    "# Build the multi regression model\n",
    "\n",
    "from sklearn.linear_model import LinearRegression  \n",
    "# Create object for the model\n",
    "\n",
    "ModelMLR = LinearRegression()\n",
    "\n",
    "# Train the model with training data\n",
    "\n",
    "ModelMLR.fit(x_train, y_train)\n",
    "\n",
    "# Predict the model with test dataset\n",
    "\n",
    "y_pred = ModelMLR.predict(x_test)\n",
    "\n",
    "# Evaluation metrics for Regression analysis\n",
    "\n",
    "from sklearn import metrics\n",
    "print('mean Absolute Error(MAE):',round(metrics.mean_absolute_error(y_test,y_pred),3))\n",
    "print('mean squared Error(ME):',round(metrics.mean_absolute_error(y_test,y_pred),2))\n",
    "print('Root mean Absolute Error(RMAE):',round(np.sqrt(metrics.mean_absolute_error(y_test,y_pred)),3))  \n",
    "print('R2_score:', round(metrics.r2_score(y_test, y_pred),6))\n",
    "print('Mean Absolute Percentage Error(MAPE):',round(metrics.mean_absolute_percentage_error(y_test,y_pred)*100,3),'%')\n",
    "print('Root mean Squared Log Error(RMSLE):',round(np.log(np.sqrt(metrics.mean_squared_error(y_test,y_pred))),3))\n",
    "\n",
    "\n",
    "# Calculate Adjusted R squared values \n",
    "\n",
    "r_squared = round(metrics.r2_score(y_test, y_pred),6)\n",
    "adjusted_r_squared = round(1 - (1-r_squared)*(len(y)-1)/(len(y)-x.shape[1]-1),6)\n",
    "print('Adj R Square: ', adjusted_r_squared)"
   ]
  },
  {
   "cell_type": "code",
   "execution_count": 28,
   "id": "0cc620a6",
   "metadata": {},
   "outputs": [
    {
     "data": {
      "text/html": [
       "<div>\n",
       "<style scoped>\n",
       "    .dataframe tbody tr th:only-of-type {\n",
       "        vertical-align: middle;\n",
       "    }\n",
       "\n",
       "    .dataframe tbody tr th {\n",
       "        vertical-align: top;\n",
       "    }\n",
       "\n",
       "    .dataframe thead th {\n",
       "        text-align: right;\n",
       "    }\n",
       "</style>\n",
       "<table border=\"1\" class=\"dataframe\">\n",
       "  <thead>\n",
       "    <tr style=\"text-align: right;\">\n",
       "      <th></th>\n",
       "      <th>shop_id</th>\n",
       "      <th>item_id</th>\n",
       "      <th>item_cnt_month</th>\n",
       "      <th>item_cnt_month_A</th>\n",
       "      <th>item_cnt_month_P</th>\n",
       "    </tr>\n",
       "  </thead>\n",
       "  <tbody>\n",
       "    <tr>\n",
       "      <th>848538</th>\n",
       "      <td>54</td>\n",
       "      <td>13420</td>\n",
       "      <td>5</td>\n",
       "      <td>5</td>\n",
       "      <td>2.199225</td>\n",
       "    </tr>\n",
       "    <tr>\n",
       "      <th>1065675</th>\n",
       "      <td>50</td>\n",
       "      <td>17458</td>\n",
       "      <td>1</td>\n",
       "      <td>1</td>\n",
       "      <td>1.994686</td>\n",
       "    </tr>\n",
       "    <tr>\n",
       "      <th>179755</th>\n",
       "      <td>22</td>\n",
       "      <td>8357</td>\n",
       "      <td>1</td>\n",
       "      <td>1</td>\n",
       "      <td>2.363123</td>\n",
       "    </tr>\n",
       "    <tr>\n",
       "      <th>910799</th>\n",
       "      <td>27</td>\n",
       "      <td>14119</td>\n",
       "      <td>1</td>\n",
       "      <td>1</td>\n",
       "      <td>2.098033</td>\n",
       "    </tr>\n",
       "    <tr>\n",
       "      <th>540787</th>\n",
       "      <td>19</td>\n",
       "      <td>4181</td>\n",
       "      <td>15</td>\n",
       "      <td>15</td>\n",
       "      <td>2.556805</td>\n",
       "    </tr>\n",
       "  </tbody>\n",
       "</table>\n",
       "</div>"
      ],
      "text/plain": [
       "         shop_id  item_id  item_cnt_month  item_cnt_month_A  item_cnt_month_P\n",
       "848538        54    13420               5                 5          2.199225\n",
       "1065675       50    17458               1                 1          1.994686\n",
       "179755        22     8357               1                 1          2.363123\n",
       "910799        27    14119               1                 1          2.098033\n",
       "540787        19     4181              15                15          2.556805"
      ]
     },
     "execution_count": 28,
     "metadata": {},
     "output_type": "execute_result"
    }
   ],
   "source": [
    "Results = pd.DataFrame({'item_cnt_month_A':y_test, 'item_cnt_month_P':y_pred})\n",
    "\n",
    "# Merge two Dataframes on index of both the dataframes\n",
    "\n",
    "ResultsFinal = train_ds.merge(Results, left_index=True, right_index=True)\n",
    "\n",
    "# Display 5 records randomly\n",
    "\n",
    "ResultsFinal.sample(5)"
   ]
  },
  {
   "cell_type": "code",
   "execution_count": 29,
   "id": "34847d04",
   "metadata": {},
   "outputs": [
    {
     "data": {
      "text/html": [
       "<div>\n",
       "<style scoped>\n",
       "    .dataframe tbody tr th:only-of-type {\n",
       "        vertical-align: middle;\n",
       "    }\n",
       "\n",
       "    .dataframe tbody tr th {\n",
       "        vertical-align: top;\n",
       "    }\n",
       "\n",
       "    .dataframe thead th {\n",
       "        text-align: right;\n",
       "    }\n",
       "</style>\n",
       "<table border=\"1\" class=\"dataframe\">\n",
       "  <thead>\n",
       "    <tr style=\"text-align: right;\">\n",
       "      <th></th>\n",
       "      <th>Model Name</th>\n",
       "      <th>Mean_Absolute_Error_MAE</th>\n",
       "      <th>Adj_R_Square</th>\n",
       "      <th>Root_Mean_Squared_Error_RMSE</th>\n",
       "      <th>Mean_Absolute_Percentage_Error_MAPE</th>\n",
       "      <th>Mean_Squared_Error_MSE</th>\n",
       "      <th>Root_Mean_Squared_Log_Error_RMSLE</th>\n",
       "      <th>R2_score</th>\n",
       "    </tr>\n",
       "  </thead>\n",
       "  <tbody>\n",
       "  </tbody>\n",
       "</table>\n",
       "</div>"
      ],
      "text/plain": [
       "Empty DataFrame\n",
       "Columns: [Model Name, Mean_Absolute_Error_MAE, Adj_R_Square, Root_Mean_Squared_Error_RMSE, Mean_Absolute_Percentage_Error_MAPE, Mean_Squared_Error_MSE, Root_Mean_Squared_Log_Error_RMSLE, R2_score]\n",
       "Index: []"
      ]
     },
     "execution_count": 29,
     "metadata": {},
     "output_type": "execute_result"
    }
   ],
   "source": [
    "RGResults = pd.read_csv(r\"C:\\Users\\Dlc\\Downloads\\RGRResults.csv\", header = 0)\n",
    "\n",
    "RGResults.head()"
   ]
  },
  {
   "cell_type": "markdown",
   "id": "2b0e51f0",
   "metadata": {},
   "source": [
    "# Prediction Models"
   ]
  },
  {
   "cell_type": "code",
   "execution_count": 30,
   "id": "4b091fe9",
   "metadata": {},
   "outputs": [
    {
     "name": "stdout",
     "output_type": "stream",
     "text": [
      "Model Name:  LinearRegression()\n",
      "Mean Absolute Error (MAE): 1.642\n",
      "Mean Squared Error (MSE): 9.723\n",
      "Root Mean Squared Error (RMSE): 3.118\n",
      "R2_score: 0.00981\n",
      "Root Mean Squared Log Error (RMSLE): 1.137\n",
      "Mean Absolute Percentage Error(MAPE): 1535224061594826.8 %\n",
      "Adj R Square:  0.009809\n",
      "------------------------------------------------------------------------------------------------------------\n",
      "Model Name:  DecisionTreeRegressor()\n",
      "Mean Absolute Error (MAE): 1.335\n",
      "Mean Squared Error (MSE): 8.547\n",
      "Root Mean Squared Error (RMSE): 2.924\n",
      "R2_score: 0.12953\n",
      "Root Mean Squared Log Error (RMSLE): 1.073\n",
      "Mean Absolute Percentage Error(MAPE): 1161879991414732.2 %\n",
      "Adj R Square:  0.129529\n",
      "------------------------------------------------------------------------------------------------------------\n",
      "Model Name:  RandomForestRegressor()\n",
      "Mean Absolute Error (MAE): 1.319\n",
      "Mean Squared Error (MSE): 8.006\n",
      "Root Mean Squared Error (RMSE): 2.83\n",
      "R2_score: 0.184624\n",
      "Root Mean Squared Log Error (RMSLE): 1.04\n",
      "Mean Absolute Percentage Error(MAPE): 1176407485242060.2 %\n",
      "Adj R Square:  0.184623\n",
      "------------------------------------------------------------------------------------------------------------\n",
      "Model Name:  ExtraTreesRegressor()\n",
      "Mean Absolute Error (MAE): 1.286\n",
      "Mean Squared Error (MSE): 7.539\n",
      "Root Mean Squared Error (RMSE): 2.746\n",
      "R2_score: 0.232188\n",
      "Root Mean Squared Log Error (RMSLE): 1.01\n",
      "Mean Absolute Percentage Error(MAPE): 1194162584785141.5 %\n",
      "Adj R Square:  0.232187\n",
      "------------------------------------------------------------------------------------------------------------\n",
      "Model Name:  KNeighborsRegressor()\n",
      "Mean Absolute Error (MAE): 1.365\n",
      "Mean Squared Error (MSE): 7.947\n",
      "Root Mean Squared Error (RMSE): 2.819\n",
      "R2_score: 0.190633\n",
      "Root Mean Squared Log Error (RMSLE): 1.036\n",
      "Mean Absolute Percentage Error(MAPE): 1243294294160975.5 %\n",
      "Adj R Square:  0.190632\n",
      "------------------------------------------------------------------------------------------------------------\n",
      "Model Name:  BayesianRidge()\n",
      "Mean Absolute Error (MAE): 1.642\n",
      "Mean Squared Error (MSE): 9.723\n",
      "Root Mean Squared Error (RMSE): 3.118\n",
      "R2_score: 0.00981\n",
      "Root Mean Squared Log Error (RMSLE): 1.137\n",
      "Mean Absolute Percentage Error(MAPE): 1535222838517907.5 %\n",
      "Adj R Square:  0.009809\n",
      "------------------------------------------------------------------------------------------------------------\n"
     ]
    }
   ],
   "source": [
    "# Build the Regression / Regressor models\n",
    "\n",
    "from sklearn.linear_model import LinearRegression\n",
    "from sklearn.tree import DecisionTreeRegressor\n",
    "from sklearn.ensemble import RandomForestRegressor\n",
    "from sklearn.ensemble import ExtraTreesRegressor\n",
    "from sklearn.neighbors import KNeighborsRegressor\n",
    "from sklearn.linear_model import BayesianRidge\n",
    "#from sklearn.svm import SVR\n",
    "\n",
    "# Create objects of Regression / Regressor models with default hyper-parameters\n",
    "\n",
    "ModelMLR = LinearRegression()\n",
    "ModelDCR = DecisionTreeRegressor()\n",
    "ModelRFR = RandomForestRegressor()\n",
    "ModelETR = ExtraTreesRegressor()\n",
    "ModelKNN = KNeighborsRegressor(n_neighbors=5)\n",
    "ModelBRR = BayesianRidge()\n",
    "#ModelSVR = SVR()\n",
    "\n",
    "# Evalution matrix for all the algorithms\n",
    "\n",
    "#MM = [ModelMLR, ModelDCR, ModelRFR, ModelETR, ModelKNN, ModelBRR, ModelSVR] \n",
    "MM = [ModelMLR, ModelDCR, ModelRFR, ModelETR, ModelKNN, ModelBRR]\n",
    "\n",
    "for models in MM:\n",
    "    # Fit the model with train data\n",
    "    \n",
    "    models.fit(x_train, y_train)\n",
    "    \n",
    "    # Predict the model with test data\n",
    "\n",
    "    y_pred = models.predict(x_test)\n",
    "    \n",
    "    # Print the model name\n",
    "    \n",
    "    print('Model Name: ', models)\n",
    "    \n",
    "    # Evaluation metrics for Regression analysis\n",
    "\n",
    "    from sklearn import metrics\n",
    "\n",
    "    print('Mean Absolute Error (MAE):', round(metrics.mean_absolute_error(y_test, y_pred),3))  \n",
    "    print('Mean Squared Error (MSE):', round(metrics.mean_squared_error(y_test, y_pred),3))  \n",
    "    print('Root Mean Squared Error (RMSE):', round(np.sqrt(metrics.mean_squared_error(y_test, y_pred)),3))\n",
    "    print('R2_score:', round(metrics.r2_score(y_test, y_pred),6))\n",
    "    print('Root Mean Squared Log Error (RMSLE):', round(np.log(np.sqrt(metrics.mean_squared_error(y_test, y_pred))),3))\n",
    "    print('Mean Absolute Percentage Error(MAPE):',round(metrics.mean_absolute_percentage_error(y_test,y_pred)*100,3),'%')\n",
    "    # Define the function to calculate the MAPE - Mean Absolute Percentage Error\n",
    "\n",
    "    #def MAPE (y_test, y_pred):\n",
    "       # y_test, y_pred = np.array(y_test), np.array(y_pred)\n",
    "       # return np.mean(np.abs((y_test - y_pred) / y_test)) * 100\n",
    "    # Evaluation of MAPE \n",
    "\n",
    "    #result = MAPE(y_test, y_pred)\n",
    "    #print('Mean Absolute Percentage Error (MAPE):', round(result, 2), '%')\n",
    "    \n",
    "    # Calculate Adjusted R squared values \n",
    "\n",
    "    r_squared = round(metrics.r2_score(y_test, y_pred),6)\n",
    "    adjusted_r_squared = round(1 - (1-r_squared)*(len(y)-1)/(len(y)-x.shape[1]-1),6)\n",
    "    print('Adj R Square: ', adjusted_r_squared)\n",
    "    print('------------------------------------------------------------------------------------------------------------')\n",
    "    #-------------------------------------------------------------------------------------------\n",
    "    new_row = {'Model Name' : models,\n",
    "               'Mean_Absolute_Error_MAE' : metrics.mean_absolute_error(y_test, y_pred),\n",
    "               'Adj_R_Square' : adjusted_r_squared,\n",
    "               'Root_Mean_Squared_Error_RMSE' : np.sqrt(metrics.mean_squared_error(y_test, y_pred)),\n",
    "               'Mean_Absolute_Percentage_Error_MAPE' :metrics.mean_absolute_percentage_error(y_test,y_pred)*100,\n",
    "               'Mean_Squared_Error_MSE' : metrics.mean_squared_error(y_test, y_pred),\n",
    "               'Root_Mean_Squared_Log_Error_RMSLE': np.log(np.sqrt(metrics.mean_squared_error(y_test, y_pred))),\n",
    "               'R2_score' : metrics.r2_score(y_test, y_pred)}\n",
    "    RGResults = RGResults.append(new_row, ignore_index=True)\n",
    "    #-------------------------------------------------------------------------------------------\n"
   ]
  },
  {
   "cell_type": "code",
   "execution_count": 31,
   "id": "39d1d2b5",
   "metadata": {},
   "outputs": [
    {
     "data": {
      "text/html": [
       "<div>\n",
       "<style scoped>\n",
       "    .dataframe tbody tr th:only-of-type {\n",
       "        vertical-align: middle;\n",
       "    }\n",
       "\n",
       "    .dataframe tbody tr th {\n",
       "        vertical-align: top;\n",
       "    }\n",
       "\n",
       "    .dataframe thead th {\n",
       "        text-align: right;\n",
       "    }\n",
       "</style>\n",
       "<table border=\"1\" class=\"dataframe\">\n",
       "  <thead>\n",
       "    <tr style=\"text-align: right;\">\n",
       "      <th></th>\n",
       "      <th>Model Name</th>\n",
       "      <th>Mean_Absolute_Error_MAE</th>\n",
       "      <th>Adj_R_Square</th>\n",
       "      <th>Root_Mean_Squared_Error_RMSE</th>\n",
       "      <th>Mean_Absolute_Percentage_Error_MAPE</th>\n",
       "      <th>Mean_Squared_Error_MSE</th>\n",
       "      <th>Root_Mean_Squared_Log_Error_RMSLE</th>\n",
       "      <th>R2_score</th>\n",
       "    </tr>\n",
       "  </thead>\n",
       "  <tbody>\n",
       "    <tr>\n",
       "      <th>0</th>\n",
       "      <td>LinearRegression()</td>\n",
       "      <td>1.642162</td>\n",
       "      <td>0.009809</td>\n",
       "      <td>3.118175</td>\n",
       "      <td>1.535224e+15</td>\n",
       "      <td>9.723017</td>\n",
       "      <td>1.137248</td>\n",
       "      <td>0.009810</td>\n",
       "    </tr>\n",
       "    <tr>\n",
       "      <th>1</th>\n",
       "      <td>DecisionTreeRegressor()</td>\n",
       "      <td>1.335185</td>\n",
       "      <td>0.129529</td>\n",
       "      <td>2.923600</td>\n",
       "      <td>1.161880e+15</td>\n",
       "      <td>8.547439</td>\n",
       "      <td>1.072816</td>\n",
       "      <td>0.129530</td>\n",
       "    </tr>\n",
       "    <tr>\n",
       "      <th>2</th>\n",
       "      <td>(DecisionTreeRegressor(max_features=1.0, rando...</td>\n",
       "      <td>1.319399</td>\n",
       "      <td>0.184623</td>\n",
       "      <td>2.829569</td>\n",
       "      <td>1.176407e+15</td>\n",
       "      <td>8.006461</td>\n",
       "      <td>1.040124</td>\n",
       "      <td>0.184624</td>\n",
       "    </tr>\n",
       "    <tr>\n",
       "      <th>3</th>\n",
       "      <td>(ExtraTreeRegressor(random_state=469839908), E...</td>\n",
       "      <td>1.286453</td>\n",
       "      <td>0.232187</td>\n",
       "      <td>2.745799</td>\n",
       "      <td>1.194163e+15</td>\n",
       "      <td>7.539411</td>\n",
       "      <td>1.010072</td>\n",
       "      <td>0.232188</td>\n",
       "    </tr>\n",
       "    <tr>\n",
       "      <th>4</th>\n",
       "      <td>KNeighborsRegressor()</td>\n",
       "      <td>1.364966</td>\n",
       "      <td>0.190632</td>\n",
       "      <td>2.819122</td>\n",
       "      <td>1.243294e+15</td>\n",
       "      <td>7.947452</td>\n",
       "      <td>1.036426</td>\n",
       "      <td>0.190633</td>\n",
       "    </tr>\n",
       "  </tbody>\n",
       "</table>\n",
       "</div>"
      ],
      "text/plain": [
       "                                          Model Name  Mean_Absolute_Error_MAE  \\\n",
       "0                                 LinearRegression()                 1.642162   \n",
       "1                            DecisionTreeRegressor()                 1.335185   \n",
       "2  (DecisionTreeRegressor(max_features=1.0, rando...                 1.319399   \n",
       "3  (ExtraTreeRegressor(random_state=469839908), E...                 1.286453   \n",
       "4                              KNeighborsRegressor()                 1.364966   \n",
       "\n",
       "   Adj_R_Square  Root_Mean_Squared_Error_RMSE  \\\n",
       "0      0.009809                      3.118175   \n",
       "1      0.129529                      2.923600   \n",
       "2      0.184623                      2.829569   \n",
       "3      0.232187                      2.745799   \n",
       "4      0.190632                      2.819122   \n",
       "\n",
       "   Mean_Absolute_Percentage_Error_MAPE  Mean_Squared_Error_MSE  \\\n",
       "0                         1.535224e+15                9.723017   \n",
       "1                         1.161880e+15                8.547439   \n",
       "2                         1.176407e+15                8.006461   \n",
       "3                         1.194163e+15                7.539411   \n",
       "4                         1.243294e+15                7.947452   \n",
       "\n",
       "   Root_Mean_Squared_Log_Error_RMSLE  R2_score  \n",
       "0                           1.137248  0.009810  \n",
       "1                           1.072816  0.129530  \n",
       "2                           1.040124  0.184624  \n",
       "3                           1.010072  0.232188  \n",
       "4                           1.036426  0.190633  "
      ]
     },
     "execution_count": 31,
     "metadata": {},
     "output_type": "execute_result"
    }
   ],
   "source": [
    "RGResults.head()"
   ]
  },
  {
   "cell_type": "markdown",
   "id": "934111ed",
   "metadata": {},
   "source": [
    "# Prediction "
   ]
  },
  {
   "cell_type": "code",
   "execution_count": 32,
   "id": "c08bf4e6",
   "metadata": {},
   "outputs": [],
   "source": [
    "y_predF = ModelETR.predict(x_test)"
   ]
  },
  {
   "cell_type": "code",
   "execution_count": 33,
   "id": "27cb1f87",
   "metadata": {},
   "outputs": [
    {
     "data": {
      "text/html": [
       "<div>\n",
       "<style scoped>\n",
       "    .dataframe tbody tr th:only-of-type {\n",
       "        vertical-align: middle;\n",
       "    }\n",
       "\n",
       "    .dataframe tbody tr th {\n",
       "        vertical-align: top;\n",
       "    }\n",
       "\n",
       "    .dataframe thead th {\n",
       "        text-align: right;\n",
       "    }\n",
       "</style>\n",
       "<table border=\"1\" class=\"dataframe\">\n",
       "  <thead>\n",
       "    <tr style=\"text-align: right;\">\n",
       "      <th></th>\n",
       "      <th>shop_id</th>\n",
       "      <th>item_id</th>\n",
       "      <th>item_cnt_month</th>\n",
       "      <th>item_cnt_month_A</th>\n",
       "      <th>item_cnt_month_P</th>\n",
       "    </tr>\n",
       "  </thead>\n",
       "  <tbody>\n",
       "    <tr>\n",
       "      <th>918536</th>\n",
       "      <td>30</td>\n",
       "      <td>2270</td>\n",
       "      <td>3</td>\n",
       "      <td>3</td>\n",
       "      <td>2.532</td>\n",
       "    </tr>\n",
       "    <tr>\n",
       "      <th>272435</th>\n",
       "      <td>4</td>\n",
       "      <td>5999</td>\n",
       "      <td>1</td>\n",
       "      <td>1</td>\n",
       "      <td>1.000</td>\n",
       "    </tr>\n",
       "    <tr>\n",
       "      <th>778521</th>\n",
       "      <td>22</td>\n",
       "      <td>1717</td>\n",
       "      <td>1</td>\n",
       "      <td>1</td>\n",
       "      <td>1.325</td>\n",
       "    </tr>\n",
       "    <tr>\n",
       "      <th>159245</th>\n",
       "      <td>10</td>\n",
       "      <td>16071</td>\n",
       "      <td>1</td>\n",
       "      <td>1</td>\n",
       "      <td>1.345</td>\n",
       "    </tr>\n",
       "    <tr>\n",
       "      <th>579537</th>\n",
       "      <td>35</td>\n",
       "      <td>12816</td>\n",
       "      <td>1</td>\n",
       "      <td>1</td>\n",
       "      <td>1.390</td>\n",
       "    </tr>\n",
       "  </tbody>\n",
       "</table>\n",
       "</div>"
      ],
      "text/plain": [
       "        shop_id  item_id  item_cnt_month  item_cnt_month_A  item_cnt_month_P\n",
       "918536       30     2270               3                 3             2.532\n",
       "272435        4     5999               1                 1             1.000\n",
       "778521       22     1717               1                 1             1.325\n",
       "159245       10    16071               1                 1             1.345\n",
       "579537       35    12816               1                 1             1.390"
      ]
     },
     "execution_count": 33,
     "metadata": {},
     "output_type": "execute_result"
    }
   ],
   "source": [
    "Results = pd.DataFrame({'item_cnt_month_A':y_test, 'item_cnt_month_P':y_predF})\n",
    "\n",
    "# Merge two Dataframes on index of both the dataframes\n",
    "\n",
    "ResultsFinal = train_ds.merge(Results, left_index=True, right_index=True)\n",
    "\n",
    "# Display 5 records randomly\n",
    "\n",
    "ResultsFinal.sample(5)"
   ]
  },
  {
   "cell_type": "code",
   "execution_count": 34,
   "id": "731682e0",
   "metadata": {},
   "outputs": [
    {
     "data": {
      "text/html": [
       "<div>\n",
       "<style scoped>\n",
       "    .dataframe tbody tr th:only-of-type {\n",
       "        vertical-align: middle;\n",
       "    }\n",
       "\n",
       "    .dataframe tbody tr th {\n",
       "        vertical-align: top;\n",
       "    }\n",
       "\n",
       "    .dataframe thead th {\n",
       "        text-align: right;\n",
       "    }\n",
       "</style>\n",
       "<table border=\"1\" class=\"dataframe\">\n",
       "  <thead>\n",
       "    <tr style=\"text-align: right;\">\n",
       "      <th></th>\n",
       "      <th>shop_id</th>\n",
       "      <th>item_id</th>\n",
       "      <th>item_cnt_month</th>\n",
       "      <th>item_cnt_month_A</th>\n",
       "      <th>item_cnt_month_P</th>\n",
       "      <th>%Error</th>\n",
       "    </tr>\n",
       "  </thead>\n",
       "  <tbody>\n",
       "    <tr>\n",
       "      <th>1147851</th>\n",
       "      <td>31</td>\n",
       "      <td>20433</td>\n",
       "      <td>1</td>\n",
       "      <td>1</td>\n",
       "      <td>1.425000</td>\n",
       "      <td>-42.500</td>\n",
       "    </tr>\n",
       "    <tr>\n",
       "      <th>488261</th>\n",
       "      <td>48</td>\n",
       "      <td>17980</td>\n",
       "      <td>1</td>\n",
       "      <td>1</td>\n",
       "      <td>1.020000</td>\n",
       "      <td>-2.000</td>\n",
       "    </tr>\n",
       "    <tr>\n",
       "      <th>221929</th>\n",
       "      <td>38</td>\n",
       "      <td>6436</td>\n",
       "      <td>1</td>\n",
       "      <td>1</td>\n",
       "      <td>1.862667</td>\n",
       "      <td>-86.267</td>\n",
       "    </tr>\n",
       "    <tr>\n",
       "      <th>768954</th>\n",
       "      <td>16</td>\n",
       "      <td>19864</td>\n",
       "      <td>1</td>\n",
       "      <td>1</td>\n",
       "      <td>1.810000</td>\n",
       "      <td>-81.000</td>\n",
       "    </tr>\n",
       "    <tr>\n",
       "      <th>1313312</th>\n",
       "      <td>21</td>\n",
       "      <td>5323</td>\n",
       "      <td>14</td>\n",
       "      <td>14</td>\n",
       "      <td>4.948000</td>\n",
       "      <td>64.657</td>\n",
       "    </tr>\n",
       "  </tbody>\n",
       "</table>\n",
       "</div>"
      ],
      "text/plain": [
       "         shop_id  item_id  item_cnt_month  item_cnt_month_A  item_cnt_month_P  \\\n",
       "1147851       31    20433               1                 1          1.425000   \n",
       "488261        48    17980               1                 1          1.020000   \n",
       "221929        38     6436               1                 1          1.862667   \n",
       "768954        16    19864               1                 1          1.810000   \n",
       "1313312       21     5323              14                14          4.948000   \n",
       "\n",
       "         %Error  \n",
       "1147851 -42.500  \n",
       "488261   -2.000  \n",
       "221929  -86.267  \n",
       "768954  -81.000  \n",
       "1313312  64.657  "
      ]
     },
     "execution_count": 34,
     "metadata": {},
     "output_type": "execute_result"
    }
   ],
   "source": [
    "# Calculate the %of Error\n",
    "\n",
    "ResultsFinal['%Error'] = round(((ResultsFinal['item_cnt_month_A']-ResultsFinal['item_cnt_month_P'])/ResultsFinal['item_cnt_month_A'])*100,3)\n",
    "ResultsFinal.sample(5)"
   ]
  },
  {
   "cell_type": "markdown",
   "id": "b7e33e3c",
   "metadata": {},
   "source": [
    "# Completed"
   ]
  },
  {
   "cell_type": "code",
   "execution_count": null,
   "id": "7967ffcf",
   "metadata": {},
   "outputs": [],
   "source": []
  }
 ],
 "metadata": {
  "kernelspec": {
   "display_name": "Python 3 (ipykernel)",
   "language": "python",
   "name": "python3"
  },
  "language_info": {
   "codemirror_mode": {
    "name": "ipython",
    "version": 3
   },
   "file_extension": ".py",
   "mimetype": "text/x-python",
   "name": "python",
   "nbconvert_exporter": "python",
   "pygments_lexer": "ipython3",
   "version": "3.9.13"
  }
 },
 "nbformat": 4,
 "nbformat_minor": 5
}
